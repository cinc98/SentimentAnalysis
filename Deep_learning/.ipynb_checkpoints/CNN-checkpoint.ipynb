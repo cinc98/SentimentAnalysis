{
 "cells": [
  {
   "cell_type": "code",
   "execution_count": 21,
   "metadata": {},
   "outputs": [],
   "source": [
    "import numpy as np\n",
    "\n",
    "from keras.models import Sequential\n",
    "from keras.layers import Conv1D\n",
    "from keras.layers import Dense\n",
    "from keras.layers import Dropout\n",
    "from keras.layers import GlobalMaxPooling1D\n",
    "from keras.layers.embeddings import Embedding\n",
    "from keras.preprocessing.sequence import pad_sequences\n",
    "from sklearn.model_selection import train_test_split\n",
    "from keras.preprocessing.text import Tokenizer\n",
    "from sklearn.manifold import TSNE\n",
    "from gensim.models import KeyedVectors\n",
    "import pandas as pd\n",
    "from keras.layers import LSTM\n",
    "\n",
    "EMBEDDING_DIMENSION = 100\n",
    "VOCABULARY_SIZE = 150443\n",
    "\n",
    "def read_corpus_dataset(dataset_path):\n",
    "    data = pd.read_csv(dataset_path, error_bad_lines=False)\n",
    "    labels = data['sentiment']\n",
    "    tweets = data['tweet']\n",
    "\n",
    "    return tweets, labels"
   ]
  },
  {
   "cell_type": "code",
   "execution_count": 2,
   "metadata": {},
   "outputs": [],
   "source": [
    "def tokenize_dataset(tweets, vocabulary_size):\n",
    "    tokenizer = Tokenizer()\n",
    "    tokenizer.fit_on_texts(tweets)\n",
    "    sequences = tokenizer.texts_to_sequences(tweets)\n",
    "    # dictionary word:index\n",
    "    word_indices = {}\n",
    "    for key, value in tokenizer.word_index.items():\n",
    "        word_indices[key] = value\n",
    "        if value == vocabulary_size:\n",
    "            break\n",
    "    print('===> Number of words in dataset: {}'.format(len(word_indices)))\n",
    "\n",
    "    return sequences, word_indices\n",
    "\n",
    "def read_embeddings():\n",
    "    GLOVE_PATH = \"glove.twitter.27B.100d.txt\"\n",
    "    embeddings = {}\n",
    "    with open(GLOVE_PATH) as glove_file:\n",
    "        for line in glove_file:\n",
    "            values = line.split()\n",
    "            word = values[0]\n",
    "            coefs = np.asarray(values[1:], dtype='float32')\n",
    "            embeddings[word] = coefs\n",
    "    print('===> Using {} embedding vectors\\n'.format(len(embeddings)))\n",
    "    return embeddings\n",
    "\n",
    "\n",
    "def load_word2vec_model(w2v_path):\n",
    "    print('===> Loading Word2Vec model...')\n",
    "    return KeyedVectors.load_word2vec_format(WORD2VEC_MODEL, binary=True)"
   ]
  },
  {
   "cell_type": "code",
   "execution_count": 22,
   "metadata": {},
   "outputs": [],
   "source": [
    "\n",
    "# mapping pretrained coefficients to dataset\n",
    "def create_embedding_matrix(word_indices, embeddings):\n",
    "    WORDS_NUM = len(word_indices) + 1\n",
    "    embedding_matrix = np.zeros((WORDS_NUM, EMBEDDING_DIMENSION))\n",
    "    for word, i in word_indices.items():\n",
    "        word_vector = embeddings.get(word)\n",
    "        if word_vector is not None:\n",
    "            embedding_matrix[i] = word_vector\n",
    "\n",
    "    return WORDS_NUM, embedding_matrix\n",
    "\n",
    "\n",
    "def get_model(WORDS_NUM, embedding_matrix, MAX_SEQUENCE_LENGTH):\n",
    "    model = Sequential()\n",
    "    model.add(Embedding(WORDS_NUM,\n",
    "                        EMBEDDING_DIMENSION,\n",
    "                        weights=[embedding_matrix],\n",
    "                        input_length=MAX_SEQUENCE_LENGTH,\n",
    "                        trainable=False))\n",
    "    model.add(Conv1D(256, 3, padding='same', activation='relu'))\n",
    "    model.add(Conv1D(128, 3, padding='same', activation='relu'))\n",
    "    model.add(Conv1D(64, 3, padding='same'))\n",
    "    model.add(GlobalMaxPooling1D())\n",
    "    # model.add(Flatten())\n",
    "    model.add(Dropout(0.4))\n",
    "    model.add(Dense(180, activation='sigmoid'))\n",
    "    model.add(Dropout(0.4))\n",
    "    model.add(Dense(1, activation='sigmoid'))\n",
    "\n",
    "    return model\n",
    "\n",
    "def get_model_LSTM(WORDS_NUM, embedding_matrix, MAX_SEQUENCE_LENGTH):\n",
    "    model = Sequential()\n",
    "    model.add(Embedding(WORDS_NUM,\n",
    "                        EMBEDDING_DIMENSION,\n",
    "                        weights=[embedding_matrix],\n",
    "                        input_length=MAX_SEQUENCE_LENGTH,\n",
    "                        trainable=False))\n",
    "    model.add(LSTM(128))\n",
    "    model.add(Dropout(0.5))\n",
    "    model.add(Dense(1, activation='sigmoid'))\n",
    "\n",
    "    return model"
   ]
  },
  {
   "cell_type": "code",
   "execution_count": 4,
   "metadata": {},
   "outputs": [
    {
     "name": "stdout",
     "output_type": "stream",
     "text": [
      "===> Reading GloVe words embeddings\n",
      "\n",
      "===> Using 1193514 embedding vectors\n",
      "\n"
     ]
    }
   ],
   "source": [
    "print('===> Reading GloVe words embeddings\\n')\n",
    "embeddings = read_embeddings()"
   ]
  },
  {
   "cell_type": "code",
   "execution_count": 5,
   "metadata": {},
   "outputs": [
    {
     "name": "stdout",
     "output_type": "stream",
     "text": [
      "===> Number of words in dataset: 150443\n"
     ]
    }
   ],
   "source": [
    "tweets, labels = read_corpus_dataset(\"new_data.csv\")\n",
    "sequences, word_indices = tokenize_dataset(tweets, VOCABULARY_SIZE)"
   ]
  },
  {
   "cell_type": "code",
   "execution_count": 6,
   "metadata": {},
   "outputs": [],
   "source": [
    "# (train_summary, train_review_text, train_labels), (test_summary, test_review_text, test_labels) = load_amazon_smaller()\n",
    "# (X_train, y_train), (X_test, y_test) = (train_summary, train_labels), (test_summary, test_labels)"
   ]
  },
  {
   "cell_type": "code",
   "execution_count": 7,
   "metadata": {},
   "outputs": [],
   "source": [
    "MAX_SEQUENCE_LENGTH = len(max(sequences, key=lambda x: len(x)))\n",
    "padded_sequences = pad_sequences(sequences, maxlen=MAX_SEQUENCE_LENGTH)"
   ]
  },
  {
   "cell_type": "code",
   "execution_count": 8,
   "metadata": {},
   "outputs": [
    {
     "name": "stdout",
     "output_type": "stream",
     "text": [
      "===> Data shape: (200000, 46)\n",
      "===> Labels shape: (200000,)\n"
     ]
    }
   ],
   "source": [
    "# labels = to_categorical(labels)\n",
    "print('===> Data shape: {}'.format(padded_sequences.shape))\n",
    "print('===> Labels shape: {}'.format(labels.shape))\n",
    "labels[labels==4]=1"
   ]
  },
  {
   "cell_type": "code",
   "execution_count": 9,
   "metadata": {},
   "outputs": [],
   "source": [
    "X_train, X_test, y_train, y_test = train_test_split(padded_sequences,\n",
    "                                                        labels,\n",
    "                                                        test_size=0.2)"
   ]
  },
  {
   "cell_type": "code",
   "execution_count": 10,
   "metadata": {},
   "outputs": [],
   "source": [
    "WORDS_NUM, embedding_matrix = create_embedding_matrix(word_indices,\n",
    "                                                          embeddings)"
   ]
  },
  {
   "cell_type": "code",
   "execution_count": 11,
   "metadata": {},
   "outputs": [
    {
     "name": "stdout",
     "output_type": "stream",
     "text": [
      "Model: \"sequential\"\n",
      "_________________________________________________________________\n",
      "Layer (type)                 Output Shape              Param #   \n",
      "=================================================================\n",
      "embedding (Embedding)        (None, 46, 100)           15044400  \n",
      "_________________________________________________________________\n",
      "conv1d (Conv1D)              (None, 46, 256)           77056     \n",
      "_________________________________________________________________\n",
      "conv1d_1 (Conv1D)            (None, 46, 128)           98432     \n",
      "_________________________________________________________________\n",
      "conv1d_2 (Conv1D)            (None, 46, 64)            24640     \n",
      "_________________________________________________________________\n",
      "global_max_pooling1d (Global (None, 64)                0         \n",
      "_________________________________________________________________\n",
      "dropout (Dropout)            (None, 64)                0         \n",
      "_________________________________________________________________\n",
      "dense (Dense)                (None, 180)               11700     \n",
      "_________________________________________________________________\n",
      "dropout_1 (Dropout)          (None, 180)               0         \n",
      "_________________________________________________________________\n",
      "dense_1 (Dense)              (None, 1)                 181       \n",
      "=================================================================\n",
      "Total params: 15,256,409\n",
      "Trainable params: 212,009\n",
      "Non-trainable params: 15,044,400\n",
      "_________________________________________________________________\n"
     ]
    }
   ],
   "source": [
    "model = get_model(WORDS_NUM, embedding_matrix, MAX_SEQUENCE_LENGTH)\n",
    "model.compile(loss='binary_crossentropy', optimizer='adam', metrics=['accuracy'])\n",
    "model.summary()"
   ]
  },
  {
   "cell_type": "code",
   "execution_count": 17,
   "metadata": {},
   "outputs": [
    {
     "name": "stdout",
     "output_type": "stream",
     "text": [
      "Epoch 1/5\n",
      "   1/1250 [..............................] - ETA: 6s - loss: 0.1969 - accuracy: 0.9375WARNING:tensorflow:Callbacks method `on_train_batch_end` is slow compared to the batch time (batch time: 0.0027s vs `on_train_batch_end` time: 0.0055s). Check your callbacks.\n",
      "1250/1250 [==============================] - 12s 9ms/step - loss: 0.2257 - accuracy: 0.9084 - val_loss: 0.5678 - val_accuracy: 0.7859\n",
      "Epoch 2/5\n",
      "1250/1250 [==============================] - 12s 9ms/step - loss: 0.2062 - accuracy: 0.9169 - val_loss: 0.6178 - val_accuracy: 0.7792\n",
      "Epoch 3/5\n",
      "1250/1250 [==============================] - 12s 9ms/step - loss: 0.1927 - accuracy: 0.9223 - val_loss: 0.6170 - val_accuracy: 0.7832\n",
      "Epoch 4/5\n",
      "1250/1250 [==============================] - 12s 9ms/step - loss: 0.1771 - accuracy: 0.9303 - val_loss: 0.6384 - val_accuracy: 0.7885\n",
      "Epoch 5/5\n",
      "1250/1250 [==============================] - 12s 9ms/step - loss: 0.1676 - accuracy: 0.9342 - val_loss: 0.6347 - val_accuracy: 0.7833\n"
     ]
    },
    {
     "data": {
      "text/plain": [
       "<tensorflow.python.keras.callbacks.History at 0x7f65fcf55f98>"
      ]
     },
     "execution_count": 17,
     "metadata": {},
     "output_type": "execute_result"
    }
   ],
   "source": [
    "model.fit(X_train,\n",
    "              y_train,\n",
    "              batch_size=128,\n",
    "              epochs=5,\n",
    "              validation_data=(X_test, y_test),\n",
    "              verbose=1)"
   ]
  },
  {
   "cell_type": "code",
   "execution_count": 18,
   "metadata": {},
   "outputs": [],
   "source": [
    "pred = model.predict(X_test)\n",
    "pred[pred<0.5] = 0\n",
    "pred[pred!=0] =1"
   ]
  },
  {
   "cell_type": "code",
   "execution_count": 19,
   "metadata": {},
   "outputs": [],
   "source": [
    "from sklearn.metrics import classification_report"
   ]
  },
  {
   "cell_type": "code",
   "execution_count": 20,
   "metadata": {},
   "outputs": [
    {
     "name": "stdout",
     "output_type": "stream",
     "text": [
      "              precision    recall  f1-score   support\n",
      "\n",
      "           0       0.78      0.79      0.78     19973\n",
      "           1       0.79      0.78      0.78     20027\n",
      "\n",
      "    accuracy                           0.78     40000\n",
      "   macro avg       0.78      0.78      0.78     40000\n",
      "weighted avg       0.78      0.78      0.78     40000\n",
      "\n"
     ]
    }
   ],
   "source": [
    "print(classification_report(y_test, pred))"
   ]
  },
  {
   "cell_type": "code",
   "execution_count": 23,
   "metadata": {},
   "outputs": [
    {
     "ename": "NameError",
     "evalue": "name 'vocab_size' is not defined",
     "output_type": "error",
     "traceback": [
      "\u001b[0;31m---------------------------------------------------------------------------\u001b[0m",
      "\u001b[0;31mNameError\u001b[0m                                 Traceback (most recent call last)",
      "\u001b[0;32m<ipython-input-23-5a5dc0ea20de>\u001b[0m in \u001b[0;36m<module>\u001b[0;34m\u001b[0m\n\u001b[0;32m----> 1\u001b[0;31m \u001b[0mmodel\u001b[0m \u001b[0;34m=\u001b[0m \u001b[0mget_model_LSTM\u001b[0m\u001b[0;34m(\u001b[0m\u001b[0mWORDS_NUM\u001b[0m\u001b[0;34m,\u001b[0m \u001b[0membedding_matrix\u001b[0m\u001b[0;34m,\u001b[0m \u001b[0mMAX_SEQUENCE_LENGTH\u001b[0m\u001b[0;34m)\u001b[0m\u001b[0;34m\u001b[0m\u001b[0;34m\u001b[0m\u001b[0m\n\u001b[0m\u001b[1;32m      2\u001b[0m \u001b[0mmodel\u001b[0m\u001b[0;34m.\u001b[0m\u001b[0mcompile\u001b[0m\u001b[0;34m(\u001b[0m\u001b[0mloss\u001b[0m\u001b[0;34m=\u001b[0m\u001b[0;34m'binary_crossentropy'\u001b[0m\u001b[0;34m,\u001b[0m \u001b[0moptimizer\u001b[0m\u001b[0;34m=\u001b[0m\u001b[0;34m'adam'\u001b[0m\u001b[0;34m,\u001b[0m \u001b[0mmetrics\u001b[0m\u001b[0;34m=\u001b[0m\u001b[0;34m[\u001b[0m\u001b[0;34m'accuracy'\u001b[0m\u001b[0;34m]\u001b[0m\u001b[0;34m)\u001b[0m\u001b[0;34m\u001b[0m\u001b[0;34m\u001b[0m\u001b[0m\n\u001b[1;32m      3\u001b[0m \u001b[0mmodel\u001b[0m\u001b[0;34m.\u001b[0m\u001b[0msummary\u001b[0m\u001b[0;34m(\u001b[0m\u001b[0;34m)\u001b[0m\u001b[0;34m\u001b[0m\u001b[0;34m\u001b[0m\u001b[0m\n",
      "\u001b[0;32m<ipython-input-22-baeb846a3a7c>\u001b[0m in \u001b[0;36mget_model_LSTM\u001b[0;34m(WORDS_NUM, embedding_matrix, MAX_SEQUENCE_LENGTH)\u001b[0m\n\u001b[1;32m     32\u001b[0m \u001b[0;32mdef\u001b[0m \u001b[0mget_model_LSTM\u001b[0m\u001b[0;34m(\u001b[0m\u001b[0mWORDS_NUM\u001b[0m\u001b[0;34m,\u001b[0m \u001b[0membedding_matrix\u001b[0m\u001b[0;34m,\u001b[0m \u001b[0mMAX_SEQUENCE_LENGTH\u001b[0m\u001b[0;34m)\u001b[0m\u001b[0;34m:\u001b[0m\u001b[0;34m\u001b[0m\u001b[0;34m\u001b[0m\u001b[0m\n\u001b[1;32m     33\u001b[0m     \u001b[0mmodel\u001b[0m \u001b[0;34m=\u001b[0m \u001b[0mSequential\u001b[0m\u001b[0;34m(\u001b[0m\u001b[0;34m)\u001b[0m\u001b[0;34m\u001b[0m\u001b[0;34m\u001b[0m\u001b[0m\n\u001b[0;32m---> 34\u001b[0;31m     model.add(Embedding(vocab_size,\n\u001b[0m\u001b[1;32m     35\u001b[0m                         \u001b[0mEMBEDDING_DIMENSION\u001b[0m\u001b[0;34m,\u001b[0m\u001b[0;34m\u001b[0m\u001b[0;34m\u001b[0m\u001b[0m\n\u001b[1;32m     36\u001b[0m                         \u001b[0mweights\u001b[0m\u001b[0;34m=\u001b[0m\u001b[0;34m[\u001b[0m\u001b[0membedding_matrix\u001b[0m\u001b[0;34m]\u001b[0m\u001b[0;34m,\u001b[0m\u001b[0;34m\u001b[0m\u001b[0;34m\u001b[0m\u001b[0m\n",
      "\u001b[0;31mNameError\u001b[0m: name 'vocab_size' is not defined"
     ]
    }
   ],
   "source": [
    "model = get_model_LSTM(WORDS_NUM, embedding_matrix, MAX_SEQUENCE_LENGTH)\n",
    "model.compile(loss='binary_crossentropy', optimizer='adam', metrics=['accuracy'])\n",
    "model.summary()"
   ]
  },
  {
   "cell_type": "code",
   "execution_count": 64,
   "metadata": {},
   "outputs": [],
   "source": []
  },
  {
   "cell_type": "code",
   "execution_count": null,
   "metadata": {},
   "outputs": [],
   "source": []
  }
 ],
 "metadata": {
  "kernelspec": {
   "display_name": "Python 3",
   "language": "python",
   "name": "python3"
  },
  "language_info": {
   "codemirror_mode": {
    "name": "ipython",
    "version": 3
   },
   "file_extension": ".py",
   "mimetype": "text/x-python",
   "name": "python",
   "nbconvert_exporter": "python",
   "pygments_lexer": "ipython3",
   "version": "3.6.12"
  }
 },
 "nbformat": 4,
 "nbformat_minor": 4
}
